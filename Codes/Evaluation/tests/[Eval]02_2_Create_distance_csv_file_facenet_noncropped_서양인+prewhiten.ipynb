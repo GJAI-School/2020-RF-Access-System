{
 "cells": [
  {
   "cell_type": "code",
   "execution_count": 1,
   "metadata": {
    "id": "zNaYb7QHPafj"
   },
   "outputs": [
    {
     "name": "stderr",
     "output_type": "stream",
     "text": [
      "C:\\Users\\km_mz\\Anaconda3\\lib\\site-packages\\tqdm\\std.py:697: FutureWarning: The Panel class is removed from pandas. Accessing it from the top-level namespace will also be removed in the next version\n",
      "  from pandas import Panel\n"
     ]
    }
   ],
   "source": [
    "import pandas as pd\n",
    "import itertools\n",
    "from sklearn.metrics import confusion_matrix\n",
    "from tqdm import tqdm\n",
    "tqdm.pandas()"
   ]
  },
  {
   "cell_type": "markdown",
   "metadata": {
    "id": "rYzHWKkiPafm"
   },
   "source": [
    "> 이 코드는 threshold를 구할 때 필요한 csv file을 생성한다\n",
    "\n",
    "- csv file에는 같은 사람 3000 pairs, 다른 사람 3000pairs에 대하여 facenet을 이용해 구한 거리 값을 저장\n",
    "- 결과물(outputs)\n",
    "    - 동양인 csv file = `pair_with_dist_Asian.csv`\n",
    "    - 서양인 csv file = `pair_with_dist_lfw.csv`\n",
    "\n",
    "---\n",
    "# 2. 서양인 데이터 \n",
    "- lfw (funneld)\n",
    "- 같은 사람 3000 pairs, 다른 사람 3000 pairs \n",
    "\n",
    "### Data set"
   ]
  },
  {
   "cell_type": "code",
   "execution_count": 3,
   "metadata": {
    "colab": {
     "base_uri": "https://localhost:8080/"
    },
    "id": "L_zcWC2PPmGS",
    "outputId": "802d7fc5-06b7-4695-e03e-98c9b30d1ddb"
   },
   "outputs": [
    {
     "name": "stdout",
     "output_type": "stream",
     "text": [
      "Wall time: 601 ms\n"
     ]
    }
   ],
   "source": [
    "%%time\n",
    "import os\n",
    "data_path = './lfw_prewhiten/'\n",
    "ids = os.listdir(data_path)\n",
    "\n",
    "idendities = {}\n",
    "for id in ids:\n",
    "    idendities[id] = os.listdir(data_path + id)"
   ]
  },
  {
   "cell_type": "markdown",
   "metadata": {
    "id": "MFXm5dbePafp"
   },
   "source": [
    "### Positive samples\n",
    "Find different photos of same people\n"
   ]
  },
  {
   "cell_type": "code",
   "execution_count": 4,
   "metadata": {
    "id": "ru1VpR5CPafp"
   },
   "outputs": [],
   "source": [
    "positives = []\n",
    "\n",
    "for key, values in idendities.items():\n",
    "    \n",
    "    #print(key)\n",
    "    for i in range(0, len(values)-1):\n",
    "        for j in range(i+1, len(values)):\n",
    "            # print(key + '/' + values[i] + \" and \" + key + '/' + values[j])\n",
    "            positive = []\n",
    "            positive.append(key + '/' + values[i])\n",
    "            positive.append(key + '/' + values[j])\n",
    "            positives.append(positive)"
   ]
  },
  {
   "cell_type": "code",
   "execution_count": 5,
   "metadata": {
    "id": "npioWNILPafr"
   },
   "outputs": [],
   "source": [
    "positives = pd.DataFrame(positives, columns = [\"file_x\", \"file_y\"])\n",
    "positives[\"decision\"] = \"Yes\""
   ]
  },
  {
   "cell_type": "code",
   "execution_count": 6,
   "metadata": {
    "colab": {
     "base_uri": "https://localhost:8080/",
     "height": 399
    },
    "id": "D6nYOGPxb4Jr",
    "outputId": "a791cd95-bd6c-4e82-9784-03d7ae8cb1a4"
   },
   "outputs": [
    {
     "data": {
      "text/html": [
       "<div>\n",
       "<style scoped>\n",
       "    .dataframe tbody tr th:only-of-type {\n",
       "        vertical-align: middle;\n",
       "    }\n",
       "\n",
       "    .dataframe tbody tr th {\n",
       "        vertical-align: top;\n",
       "    }\n",
       "\n",
       "    .dataframe thead th {\n",
       "        text-align: right;\n",
       "    }\n",
       "</style>\n",
       "<table border=\"1\" class=\"dataframe\">\n",
       "  <thead>\n",
       "    <tr style=\"text-align: right;\">\n",
       "      <th></th>\n",
       "      <th>file_x</th>\n",
       "      <th>file_y</th>\n",
       "      <th>decision</th>\n",
       "    </tr>\n",
       "  </thead>\n",
       "  <tbody>\n",
       "    <tr>\n",
       "      <th>0</th>\n",
       "      <td>Aaron_Peirsol/Aaron_Peirsol_0001.jpg</td>\n",
       "      <td>Aaron_Peirsol/Aaron_Peirsol_0002.jpg</td>\n",
       "      <td>Yes</td>\n",
       "    </tr>\n",
       "    <tr>\n",
       "      <th>1</th>\n",
       "      <td>Aaron_Peirsol/Aaron_Peirsol_0001.jpg</td>\n",
       "      <td>Aaron_Peirsol/Aaron_Peirsol_0003.jpg</td>\n",
       "      <td>Yes</td>\n",
       "    </tr>\n",
       "    <tr>\n",
       "      <th>2</th>\n",
       "      <td>Aaron_Peirsol/Aaron_Peirsol_0001.jpg</td>\n",
       "      <td>Aaron_Peirsol/Aaron_Peirsol_0004.jpg</td>\n",
       "      <td>Yes</td>\n",
       "    </tr>\n",
       "    <tr>\n",
       "      <th>3</th>\n",
       "      <td>Aaron_Peirsol/Aaron_Peirsol_0002.jpg</td>\n",
       "      <td>Aaron_Peirsol/Aaron_Peirsol_0003.jpg</td>\n",
       "      <td>Yes</td>\n",
       "    </tr>\n",
       "    <tr>\n",
       "      <th>4</th>\n",
       "      <td>Aaron_Peirsol/Aaron_Peirsol_0002.jpg</td>\n",
       "      <td>Aaron_Peirsol/Aaron_Peirsol_0004.jpg</td>\n",
       "      <td>Yes</td>\n",
       "    </tr>\n",
       "    <tr>\n",
       "      <th>...</th>\n",
       "      <td>...</td>\n",
       "      <td>...</td>\n",
       "      <td>...</td>\n",
       "    </tr>\n",
       "    <tr>\n",
       "      <th>242252</th>\n",
       "      <td>Zoran_Djindjic/Zoran_Djindjic_0001.jpg</td>\n",
       "      <td>Zoran_Djindjic/Zoran_Djindjic_0003.jpg</td>\n",
       "      <td>Yes</td>\n",
       "    </tr>\n",
       "    <tr>\n",
       "      <th>242253</th>\n",
       "      <td>Zoran_Djindjic/Zoran_Djindjic_0001.jpg</td>\n",
       "      <td>Zoran_Djindjic/Zoran_Djindjic_0004.jpg</td>\n",
       "      <td>Yes</td>\n",
       "    </tr>\n",
       "    <tr>\n",
       "      <th>242254</th>\n",
       "      <td>Zoran_Djindjic/Zoran_Djindjic_0002.jpg</td>\n",
       "      <td>Zoran_Djindjic/Zoran_Djindjic_0003.jpg</td>\n",
       "      <td>Yes</td>\n",
       "    </tr>\n",
       "    <tr>\n",
       "      <th>242255</th>\n",
       "      <td>Zoran_Djindjic/Zoran_Djindjic_0002.jpg</td>\n",
       "      <td>Zoran_Djindjic/Zoran_Djindjic_0004.jpg</td>\n",
       "      <td>Yes</td>\n",
       "    </tr>\n",
       "    <tr>\n",
       "      <th>242256</th>\n",
       "      <td>Zoran_Djindjic/Zoran_Djindjic_0003.jpg</td>\n",
       "      <td>Zoran_Djindjic/Zoran_Djindjic_0004.jpg</td>\n",
       "      <td>Yes</td>\n",
       "    </tr>\n",
       "  </tbody>\n",
       "</table>\n",
       "<p>242257 rows × 3 columns</p>\n",
       "</div>"
      ],
      "text/plain": [
       "                                        file_x  \\\n",
       "0         Aaron_Peirsol/Aaron_Peirsol_0001.jpg   \n",
       "1         Aaron_Peirsol/Aaron_Peirsol_0001.jpg   \n",
       "2         Aaron_Peirsol/Aaron_Peirsol_0001.jpg   \n",
       "3         Aaron_Peirsol/Aaron_Peirsol_0002.jpg   \n",
       "4         Aaron_Peirsol/Aaron_Peirsol_0002.jpg   \n",
       "...                                        ...   \n",
       "242252  Zoran_Djindjic/Zoran_Djindjic_0001.jpg   \n",
       "242253  Zoran_Djindjic/Zoran_Djindjic_0001.jpg   \n",
       "242254  Zoran_Djindjic/Zoran_Djindjic_0002.jpg   \n",
       "242255  Zoran_Djindjic/Zoran_Djindjic_0002.jpg   \n",
       "242256  Zoran_Djindjic/Zoran_Djindjic_0003.jpg   \n",
       "\n",
       "                                        file_y decision  \n",
       "0         Aaron_Peirsol/Aaron_Peirsol_0002.jpg      Yes  \n",
       "1         Aaron_Peirsol/Aaron_Peirsol_0003.jpg      Yes  \n",
       "2         Aaron_Peirsol/Aaron_Peirsol_0004.jpg      Yes  \n",
       "3         Aaron_Peirsol/Aaron_Peirsol_0003.jpg      Yes  \n",
       "4         Aaron_Peirsol/Aaron_Peirsol_0004.jpg      Yes  \n",
       "...                                        ...      ...  \n",
       "242252  Zoran_Djindjic/Zoran_Djindjic_0003.jpg      Yes  \n",
       "242253  Zoran_Djindjic/Zoran_Djindjic_0004.jpg      Yes  \n",
       "242254  Zoran_Djindjic/Zoran_Djindjic_0003.jpg      Yes  \n",
       "242255  Zoran_Djindjic/Zoran_Djindjic_0004.jpg      Yes  \n",
       "242256  Zoran_Djindjic/Zoran_Djindjic_0004.jpg      Yes  \n",
       "\n",
       "[242257 rows x 3 columns]"
      ]
     },
     "execution_count": 6,
     "metadata": {},
     "output_type": "execute_result"
    }
   ],
   "source": [
    "positives"
   ]
  },
  {
   "cell_type": "markdown",
   "metadata": {
    "id": "C6JY2G3ZPaft"
   },
   "source": [
    "### Negative samples\n",
    "Compare photos of different people"
   ]
  },
  {
   "cell_type": "code",
   "execution_count": 7,
   "metadata": {
    "id": "4Q38wYi4Pafu"
   },
   "outputs": [],
   "source": [
    "samples_list = list(idendities.values())"
   ]
  },
  {
   "cell_type": "code",
   "execution_count": 10,
   "metadata": {
    "colab": {
     "base_uri": "https://localhost:8080/"
    },
    "id": "zcOWib0mPafw",
    "outputId": "259ea590-55a4-4fb1-801d-b21fa56ff766"
   },
   "outputs": [
    {
     "name": "stdout",
     "output_type": "stream",
     "text": [
      "Wall time: 435 ms\n"
     ]
    }
   ],
   "source": [
    "%%time\n",
    "negatives = []\n",
    "ids_keys_list = list(idendities.keys())\n",
    "for i in range(0, len(idendities) - 1):\n",
    "\n",
    "    for j in range(i+1, len(idendities)):\n",
    "        #print(samples_list[i], \" vs \",samples_list[j]) \n",
    "        cross_product = itertools.product(samples_list[i], samples_list[j])\n",
    "        cross_product = list(cross_product)\n",
    "        #print(cross_product)\n",
    "\n",
    "        for cross_sample in cross_product:\n",
    "            # print(ids_keys_list[i] + '/' + cross_sample[0] + \" vs \" + ids_keys_list[j] + '/' + cross_sample[1])\n",
    "            negative = []\n",
    "            negative.append(ids_keys_list[i] + '/' + cross_sample[0])\n",
    "            negative.append(ids_keys_list[j] + '/' + cross_sample[1])\n",
    "            negatives.append(negative)\n",
    "            del negative\n",
    "        del cross_product\n",
    "    \n",
    "    if len(negatives) > 242257:\n",
    "        break"
   ]
  },
  {
   "cell_type": "code",
   "execution_count": 13,
   "metadata": {
    "colab": {
     "base_uri": "https://localhost:8080/",
     "height": 188
    },
    "id": "uQOmdW1CPafy",
    "outputId": "7550964a-67d9-4210-a37d-3ccb1fbc699e"
   },
   "outputs": [],
   "source": [
    "negatives = pd.DataFrame(negatives, columns = [\"file_x\", \"file_y\"])\n",
    "negatives[\"decision\"] = \"No\""
   ]
  },
  {
   "cell_type": "code",
   "execution_count": 14,
   "metadata": {
    "id": "ixO7E3RhchMr"
   },
   "outputs": [
    {
     "data": {
      "text/html": [
       "<div>\n",
       "<style scoped>\n",
       "    .dataframe tbody tr th:only-of-type {\n",
       "        vertical-align: middle;\n",
       "    }\n",
       "\n",
       "    .dataframe tbody tr th {\n",
       "        vertical-align: top;\n",
       "    }\n",
       "\n",
       "    .dataframe thead th {\n",
       "        text-align: right;\n",
       "    }\n",
       "</style>\n",
       "<table border=\"1\" class=\"dataframe\">\n",
       "  <thead>\n",
       "    <tr style=\"text-align: right;\">\n",
       "      <th></th>\n",
       "      <th>file_x</th>\n",
       "      <th>file_y</th>\n",
       "      <th>decision</th>\n",
       "    </tr>\n",
       "  </thead>\n",
       "  <tbody>\n",
       "    <tr>\n",
       "      <th>0</th>\n",
       "      <td>Aaron_Eckhart/Aaron_Eckhart_0001.jpg</td>\n",
       "      <td>Aaron_Guiel/Aaron_Guiel_0001.jpg</td>\n",
       "      <td>No</td>\n",
       "    </tr>\n",
       "    <tr>\n",
       "      <th>1</th>\n",
       "      <td>Aaron_Eckhart/Aaron_Eckhart_0001.jpg</td>\n",
       "      <td>Aaron_Patterson/Aaron_Patterson_0001.jpg</td>\n",
       "      <td>No</td>\n",
       "    </tr>\n",
       "    <tr>\n",
       "      <th>2</th>\n",
       "      <td>Aaron_Eckhart/Aaron_Eckhart_0001.jpg</td>\n",
       "      <td>Aaron_Peirsol/Aaron_Peirsol_0001.jpg</td>\n",
       "      <td>No</td>\n",
       "    </tr>\n",
       "    <tr>\n",
       "      <th>3</th>\n",
       "      <td>Aaron_Eckhart/Aaron_Eckhart_0001.jpg</td>\n",
       "      <td>Aaron_Peirsol/Aaron_Peirsol_0002.jpg</td>\n",
       "      <td>No</td>\n",
       "    </tr>\n",
       "    <tr>\n",
       "      <th>4</th>\n",
       "      <td>Aaron_Eckhart/Aaron_Eckhart_0001.jpg</td>\n",
       "      <td>Aaron_Peirsol/Aaron_Peirsol_0003.jpg</td>\n",
       "      <td>No</td>\n",
       "    </tr>\n",
       "  </tbody>\n",
       "</table>\n",
       "</div>"
      ],
      "text/plain": [
       "                                 file_x  \\\n",
       "0  Aaron_Eckhart/Aaron_Eckhart_0001.jpg   \n",
       "1  Aaron_Eckhart/Aaron_Eckhart_0001.jpg   \n",
       "2  Aaron_Eckhart/Aaron_Eckhart_0001.jpg   \n",
       "3  Aaron_Eckhart/Aaron_Eckhart_0001.jpg   \n",
       "4  Aaron_Eckhart/Aaron_Eckhart_0001.jpg   \n",
       "\n",
       "                                     file_y decision  \n",
       "0          Aaron_Guiel/Aaron_Guiel_0001.jpg       No  \n",
       "1  Aaron_Patterson/Aaron_Patterson_0001.jpg       No  \n",
       "2      Aaron_Peirsol/Aaron_Peirsol_0001.jpg       No  \n",
       "3      Aaron_Peirsol/Aaron_Peirsol_0002.jpg       No  \n",
       "4      Aaron_Peirsol/Aaron_Peirsol_0003.jpg       No  "
      ]
     },
     "execution_count": 14,
     "metadata": {},
     "output_type": "execute_result"
    }
   ],
   "source": [
    "negatives.head()"
   ]
  },
  {
   "cell_type": "markdown",
   "metadata": {
    "id": "MjVyFIkkPaf0"
   },
   "source": [
    "### Merge Positives and Negative Samples"
   ]
  },
  {
   "cell_type": "code",
   "execution_count": 15,
   "metadata": {
    "id": "SAm8xKyWPaf0"
   },
   "outputs": [],
   "source": [
    "df = pd.concat([positives, negatives]).reset_index(drop = True)"
   ]
  },
  {
   "cell_type": "code",
   "execution_count": 16,
   "metadata": {
    "colab": {
     "base_uri": "https://localhost:8080/"
    },
    "id": "xRSe-HIMPaf2",
    "outputId": "5782b739-0834-4594-88a9-2c05648059c7"
   },
   "outputs": [
    {
     "data": {
      "text/plain": [
       "(519905, 3)"
      ]
     },
     "execution_count": 16,
     "metadata": {},
     "output_type": "execute_result"
    }
   ],
   "source": [
    "df.shape"
   ]
  },
  {
   "cell_type": "code",
   "execution_count": 17,
   "metadata": {
    "colab": {
     "base_uri": "https://localhost:8080/"
    },
    "id": "U1ko0eEUPaf4",
    "outputId": "60163555-1eaf-48e9-e393-509c88bca0b3"
   },
   "outputs": [
    {
     "data": {
      "text/plain": [
       "No     277648\n",
       "Yes    242257\n",
       "Name: decision, dtype: int64"
      ]
     },
     "execution_count": 17,
     "metadata": {},
     "output_type": "execute_result"
    }
   ],
   "source": [
    "df.decision.value_counts()"
   ]
  },
  {
   "cell_type": "code",
   "execution_count": 18,
   "metadata": {
    "id": "g-vp47CZPaf6"
   },
   "outputs": [],
   "source": [
    "df.file_x = data_path + df.file_x\n",
    "df.file_y = data_path + df.file_y"
   ]
  },
  {
   "cell_type": "code",
   "execution_count": 19,
   "metadata": {
    "colab": {
     "base_uri": "https://localhost:8080/",
     "height": 35
    },
    "id": "GZktqHimc2lk",
    "outputId": "0ff3dfbb-33db-4e65-a3d2-331ce05b3ab4"
   },
   "outputs": [
    {
     "data": {
      "text/plain": [
       "'./lfw_prewhiten/Aaron_Peirsol/Aaron_Peirsol_0001.jpg'"
      ]
     },
     "execution_count": 19,
     "metadata": {},
     "output_type": "execute_result"
    }
   ],
   "source": [
    "df.iloc[0, 0]"
   ]
  },
  {
   "cell_type": "code",
   "execution_count": 20,
   "metadata": {
    "colab": {
     "base_uri": "https://localhost:8080/",
     "height": 399
    },
    "id": "saGPjL-uk1Bl",
    "outputId": "9f1890fe-1a26-4e08-bc95-eb5d7329b64b"
   },
   "outputs": [
    {
     "data": {
      "text/html": [
       "<div>\n",
       "<style scoped>\n",
       "    .dataframe tbody tr th:only-of-type {\n",
       "        vertical-align: middle;\n",
       "    }\n",
       "\n",
       "    .dataframe tbody tr th {\n",
       "        vertical-align: top;\n",
       "    }\n",
       "\n",
       "    .dataframe thead th {\n",
       "        text-align: right;\n",
       "    }\n",
       "</style>\n",
       "<table border=\"1\" class=\"dataframe\">\n",
       "  <thead>\n",
       "    <tr style=\"text-align: right;\">\n",
       "      <th></th>\n",
       "      <th>file_x</th>\n",
       "      <th>file_y</th>\n",
       "      <th>decision</th>\n",
       "    </tr>\n",
       "  </thead>\n",
       "  <tbody>\n",
       "    <tr>\n",
       "      <th>0</th>\n",
       "      <td>./lfw_prewhiten/Aaron_Peirsol/Aaron_Peirsol_00...</td>\n",
       "      <td>./lfw_prewhiten/Aaron_Peirsol/Aaron_Peirsol_00...</td>\n",
       "      <td>Yes</td>\n",
       "    </tr>\n",
       "    <tr>\n",
       "      <th>1</th>\n",
       "      <td>./lfw_prewhiten/Aaron_Peirsol/Aaron_Peirsol_00...</td>\n",
       "      <td>./lfw_prewhiten/Aaron_Peirsol/Aaron_Peirsol_00...</td>\n",
       "      <td>Yes</td>\n",
       "    </tr>\n",
       "    <tr>\n",
       "      <th>2</th>\n",
       "      <td>./lfw_prewhiten/Aaron_Peirsol/Aaron_Peirsol_00...</td>\n",
       "      <td>./lfw_prewhiten/Aaron_Peirsol/Aaron_Peirsol_00...</td>\n",
       "      <td>Yes</td>\n",
       "    </tr>\n",
       "    <tr>\n",
       "      <th>3</th>\n",
       "      <td>./lfw_prewhiten/Aaron_Peirsol/Aaron_Peirsol_00...</td>\n",
       "      <td>./lfw_prewhiten/Aaron_Peirsol/Aaron_Peirsol_00...</td>\n",
       "      <td>Yes</td>\n",
       "    </tr>\n",
       "    <tr>\n",
       "      <th>4</th>\n",
       "      <td>./lfw_prewhiten/Aaron_Peirsol/Aaron_Peirsol_00...</td>\n",
       "      <td>./lfw_prewhiten/Aaron_Peirsol/Aaron_Peirsol_00...</td>\n",
       "      <td>Yes</td>\n",
       "    </tr>\n",
       "    <tr>\n",
       "      <th>...</th>\n",
       "      <td>...</td>\n",
       "      <td>...</td>\n",
       "      <td>...</td>\n",
       "    </tr>\n",
       "    <tr>\n",
       "      <th>519900</th>\n",
       "      <td>./lfw_prewhiten/Abdoulaye_Wade/Abdoulaye_Wade_...</td>\n",
       "      <td>./lfw_prewhiten/Zurab_Tsereteli/Zurab_Tseretel...</td>\n",
       "      <td>No</td>\n",
       "    </tr>\n",
       "    <tr>\n",
       "      <th>519901</th>\n",
       "      <td>./lfw_prewhiten/Abdoulaye_Wade/Abdoulaye_Wade_...</td>\n",
       "      <td>./lfw_prewhiten/Zydrunas_Ilgauskas/Zydrunas_Il...</td>\n",
       "      <td>No</td>\n",
       "    </tr>\n",
       "    <tr>\n",
       "      <th>519902</th>\n",
       "      <td>./lfw_prewhiten/Abdoulaye_Wade/Abdoulaye_Wade_...</td>\n",
       "      <td>./lfw_prewhiten/Zydrunas_Ilgauskas/Zydrunas_Il...</td>\n",
       "      <td>No</td>\n",
       "    </tr>\n",
       "    <tr>\n",
       "      <th>519903</th>\n",
       "      <td>./lfw_prewhiten/Abdoulaye_Wade/Abdoulaye_Wade_...</td>\n",
       "      <td>./lfw_prewhiten/Zydrunas_Ilgauskas/Zydrunas_Il...</td>\n",
       "      <td>No</td>\n",
       "    </tr>\n",
       "    <tr>\n",
       "      <th>519904</th>\n",
       "      <td>./lfw_prewhiten/Abdoulaye_Wade/Abdoulaye_Wade_...</td>\n",
       "      <td>./lfw_prewhiten/Zydrunas_Ilgauskas/Zydrunas_Il...</td>\n",
       "      <td>No</td>\n",
       "    </tr>\n",
       "  </tbody>\n",
       "</table>\n",
       "<p>519905 rows × 3 columns</p>\n",
       "</div>"
      ],
      "text/plain": [
       "                                                   file_x  \\\n",
       "0       ./lfw_prewhiten/Aaron_Peirsol/Aaron_Peirsol_00...   \n",
       "1       ./lfw_prewhiten/Aaron_Peirsol/Aaron_Peirsol_00...   \n",
       "2       ./lfw_prewhiten/Aaron_Peirsol/Aaron_Peirsol_00...   \n",
       "3       ./lfw_prewhiten/Aaron_Peirsol/Aaron_Peirsol_00...   \n",
       "4       ./lfw_prewhiten/Aaron_Peirsol/Aaron_Peirsol_00...   \n",
       "...                                                   ...   \n",
       "519900  ./lfw_prewhiten/Abdoulaye_Wade/Abdoulaye_Wade_...   \n",
       "519901  ./lfw_prewhiten/Abdoulaye_Wade/Abdoulaye_Wade_...   \n",
       "519902  ./lfw_prewhiten/Abdoulaye_Wade/Abdoulaye_Wade_...   \n",
       "519903  ./lfw_prewhiten/Abdoulaye_Wade/Abdoulaye_Wade_...   \n",
       "519904  ./lfw_prewhiten/Abdoulaye_Wade/Abdoulaye_Wade_...   \n",
       "\n",
       "                                                   file_y decision  \n",
       "0       ./lfw_prewhiten/Aaron_Peirsol/Aaron_Peirsol_00...      Yes  \n",
       "1       ./lfw_prewhiten/Aaron_Peirsol/Aaron_Peirsol_00...      Yes  \n",
       "2       ./lfw_prewhiten/Aaron_Peirsol/Aaron_Peirsol_00...      Yes  \n",
       "3       ./lfw_prewhiten/Aaron_Peirsol/Aaron_Peirsol_00...      Yes  \n",
       "4       ./lfw_prewhiten/Aaron_Peirsol/Aaron_Peirsol_00...      Yes  \n",
       "...                                                   ...      ...  \n",
       "519900  ./lfw_prewhiten/Zurab_Tsereteli/Zurab_Tseretel...       No  \n",
       "519901  ./lfw_prewhiten/Zydrunas_Ilgauskas/Zydrunas_Il...       No  \n",
       "519902  ./lfw_prewhiten/Zydrunas_Ilgauskas/Zydrunas_Il...       No  \n",
       "519903  ./lfw_prewhiten/Zydrunas_Ilgauskas/Zydrunas_Il...       No  \n",
       "519904  ./lfw_prewhiten/Zydrunas_Ilgauskas/Zydrunas_Il...       No  \n",
       "\n",
       "[519905 rows x 3 columns]"
      ]
     },
     "execution_count": 20,
     "metadata": {},
     "output_type": "execute_result"
    }
   ],
   "source": [
    "df"
   ]
  },
  {
   "cell_type": "code",
   "execution_count": 21,
   "metadata": {
    "id": "73TCC2BMg8nd"
   },
   "outputs": [],
   "source": [
    "# 같은 얼굴 3000개, 다른 얼굴 3000개 pair만 남기기\n",
    "selected_pos_df = df[df['decision']=='Yes'].sample(n=3000)\n",
    "selected_neg_df = df[df['decision']=='No'].sample(n=3000)\n",
    "\n",
    "selected_df = pd.concat([selected_pos_df, selected_neg_df]).reset_index(drop = True)"
   ]
  },
  {
   "cell_type": "markdown",
   "metadata": {
    "id": "u_uA0SWtPaf8"
   },
   "source": [
    "# DeepFace"
   ]
  },
  {
   "cell_type": "code",
   "execution_count": 22,
   "metadata": {
    "id": "MN-d6HZNPaf8"
   },
   "outputs": [
    {
     "name": "stdout",
     "output_type": "stream",
     "text": [
      "Collecting DeepFace\n",
      "  Downloading deepface-0.0.41-py3-none-any.whl (50 kB)\n",
      "Requirement already satisfied: tqdm>=4.30.0 in c:\\users\\km_mz\\anaconda3\\lib\\site-packages (from DeepFace) (4.50.2)\n",
      "Requirement already satisfied: Flask>=1.1.2 in c:\\users\\km_mz\\anaconda3\\lib\\site-packages (from DeepFace) (1.1.2)\n",
      "Collecting keras>=2.2.0\n",
      "  Downloading Keras-2.4.3-py2.py3-none-any.whl (36 kB)\n",
      "Collecting mtcnn>=0.1.0\n",
      "  Downloading mtcnn-0.1.0-py3-none-any.whl (2.3 MB)\n",
      "Requirement already satisfied: pandas>=0.23.4 in c:\\users\\km_mz\\anaconda3\\lib\\site-packages (from DeepFace) (1.1.4)\n",
      "Requirement already satisfied: numpy>=1.14.0 in c:\\users\\km_mz\\anaconda3\\lib\\site-packages (from DeepFace) (1.19.2)\n",
      "Collecting tensorflow>=1.9.0\n",
      "  Downloading tensorflow-2.3.1-cp38-cp38-win_amd64.whl (342.5 MB)\n",
      "Requirement already satisfied: Pillow>=5.2.0 in c:\\users\\km_mz\\anaconda3\\lib\\site-packages (from DeepFace) (8.0.1)\n",
      "Requirement already satisfied: opencv-python>=3.4.4 in c:\\users\\km_mz\\anaconda3\\lib\\site-packages (from DeepFace) (4.4.0.46)\n",
      "Collecting gdown>=3.10.1\n",
      "  Downloading gdown-3.12.2.tar.gz (8.2 kB)\n",
      "  Installing build dependencies: started\n",
      "  Installing build dependencies: finished with status 'done'\n",
      "  Getting requirements to build wheel: started\n",
      "  Getting requirements to build wheel: finished with status 'done'\n",
      "    Preparing wheel metadata: started\n",
      "    Preparing wheel metadata: finished with status 'done'\n",
      "Requirement already satisfied: itsdangerous>=0.24 in c:\\users\\km_mz\\anaconda3\\lib\\site-packages (from Flask>=1.1.2->DeepFace) (1.1.0)\n",
      "Requirement already satisfied: click>=5.1 in c:\\users\\km_mz\\anaconda3\\lib\\site-packages (from Flask>=1.1.2->DeepFace) (7.1.2)\n",
      "Requirement already satisfied: Jinja2>=2.10.1 in c:\\users\\km_mz\\anaconda3\\lib\\site-packages (from Flask>=1.1.2->DeepFace) (2.11.2)\n",
      "Requirement already satisfied: Werkzeug>=0.15 in c:\\users\\km_mz\\anaconda3\\lib\\site-packages (from Flask>=1.1.2->DeepFace) (1.0.1)\n",
      "Requirement already satisfied: pyyaml in c:\\users\\km_mz\\anaconda3\\lib\\site-packages (from keras>=2.2.0->DeepFace) (5.3.1)\n",
      "Requirement already satisfied: h5py in c:\\users\\km_mz\\anaconda3\\lib\\site-packages (from keras>=2.2.0->DeepFace) (2.10.0)\n",
      "Requirement already satisfied: scipy>=0.14 in c:\\users\\km_mz\\anaconda3\\lib\\site-packages (from keras>=2.2.0->DeepFace) (1.5.2)\n",
      "Requirement already satisfied: python-dateutil>=2.7.3 in c:\\users\\km_mz\\anaconda3\\lib\\site-packages (from pandas>=0.23.4->DeepFace) (2.8.1)\n",
      "Requirement already satisfied: pytz>=2017.2 in c:\\users\\km_mz\\anaconda3\\lib\\site-packages (from pandas>=0.23.4->DeepFace) (2020.1)\n",
      "Collecting absl-py>=0.7.0\n",
      "  Downloading absl_py-0.11.0-py3-none-any.whl (127 kB)\n",
      "Requirement already satisfied: wheel>=0.26 in c:\\users\\km_mz\\anaconda3\\lib\\site-packages (from tensorflow>=1.9.0->DeepFace) (0.35.1)\n",
      "Collecting gast==0.3.3\n",
      "  Downloading gast-0.3.3-py2.py3-none-any.whl (9.7 kB)\n",
      "Collecting astunparse==1.6.3\n",
      "  Downloading astunparse-1.6.3-py2.py3-none-any.whl (12 kB)\n",
      "Collecting termcolor>=1.1.0\n",
      "  Using cached termcolor-1.1.0.tar.gz (3.9 kB)\n",
      "Requirement already satisfied: wrapt>=1.11.1 in c:\\users\\km_mz\\anaconda3\\lib\\site-packages (from tensorflow>=1.9.0->DeepFace) (1.11.2)\n",
      "Requirement already satisfied: six>=1.12.0 in c:\\users\\km_mz\\anaconda3\\lib\\site-packages (from tensorflow>=1.9.0->DeepFace) (1.15.0)\n",
      "Collecting grpcio>=1.8.6\n",
      "  Downloading grpcio-1.33.2-cp38-cp38-win_amd64.whl (2.7 MB)\n",
      "Collecting google-pasta>=0.1.8\n",
      "  Downloading google_pasta-0.2.0-py3-none-any.whl (57 kB)\n",
      "Collecting keras-preprocessing<1.2,>=1.1.1\n",
      "  Downloading Keras_Preprocessing-1.1.2-py2.py3-none-any.whl (42 kB)\n",
      "Collecting opt-einsum>=2.3.2\n",
      "  Downloading opt_einsum-3.3.0-py3-none-any.whl (65 kB)\n",
      "Collecting tensorboard<3,>=2.3.0\n",
      "  Downloading tensorboard-2.4.0-py3-none-any.whl (10.6 MB)\n",
      "Collecting tensorflow-estimator<2.4.0,>=2.3.0\n",
      "  Downloading tensorflow_estimator-2.3.0-py2.py3-none-any.whl (459 kB)\n",
      "Collecting protobuf>=3.9.2\n",
      "  Downloading protobuf-3.14.0-py2.py3-none-any.whl (173 kB)\n",
      "Requirement already satisfied: filelock in c:\\users\\km_mz\\anaconda3\\lib\\site-packages (from gdown>=3.10.1->DeepFace) (3.0.12)\n",
      "Requirement already satisfied: requests[socks] in c:\\users\\km_mz\\anaconda3\\lib\\site-packages (from gdown>=3.10.1->DeepFace) (2.24.0)\n",
      "Requirement already satisfied: MarkupSafe>=0.23 in c:\\users\\km_mz\\anaconda3\\lib\\site-packages (from Jinja2>=2.10.1->Flask>=1.1.2->DeepFace) (1.1.1)\n",
      "Collecting google-auth<2,>=1.6.3\n",
      "  Downloading google_auth-1.23.0-py2.py3-none-any.whl (114 kB)\n",
      "Collecting tensorboard-plugin-wit>=1.6.0\n",
      "  Downloading tensorboard_plugin_wit-1.7.0-py3-none-any.whl (779 kB)\n",
      "Collecting markdown>=2.6.8\n",
      "  Downloading Markdown-3.3.3-py3-none-any.whl (96 kB)\n",
      "Collecting google-auth-oauthlib<0.5,>=0.4.1\n",
      "  Downloading google_auth_oauthlib-0.4.2-py2.py3-none-any.whl (18 kB)\n",
      "Requirement already satisfied: setuptools>=41.0.0 in c:\\users\\km_mz\\anaconda3\\lib\\site-packages (from tensorboard<3,>=2.3.0->tensorflow>=1.9.0->DeepFace) (50.3.1.post20201107)\n",
      "Requirement already satisfied: urllib3!=1.25.0,!=1.25.1,<1.26,>=1.21.1 in c:\\users\\km_mz\\anaconda3\\lib\\site-packages (from requests[socks]->gdown>=3.10.1->DeepFace) (1.25.11)\n",
      "Requirement already satisfied: chardet<4,>=3.0.2 in c:\\users\\km_mz\\anaconda3\\lib\\site-packages (from requests[socks]->gdown>=3.10.1->DeepFace) (3.0.4)\n",
      "Requirement already satisfied: certifi>=2017.4.17 in c:\\users\\km_mz\\anaconda3\\lib\\site-packages (from requests[socks]->gdown>=3.10.1->DeepFace) (2020.6.20)\n",
      "Requirement already satisfied: idna<3,>=2.5 in c:\\users\\km_mz\\anaconda3\\lib\\site-packages (from requests[socks]->gdown>=3.10.1->DeepFace) (2.10)\n",
      "Requirement already satisfied: PySocks!=1.5.7,>=1.5.6; extra == \"socks\" in c:\\users\\km_mz\\anaconda3\\lib\\site-packages (from requests[socks]->gdown>=3.10.1->DeepFace) (1.7.1)\n",
      "Collecting cachetools<5.0,>=2.0.0\n",
      "  Downloading cachetools-4.1.1-py3-none-any.whl (10 kB)\n",
      "Collecting pyasn1-modules>=0.2.1\n",
      "  Downloading pyasn1_modules-0.2.8-py2.py3-none-any.whl (155 kB)\n",
      "Collecting rsa<5,>=3.1.4; python_version >= \"3.5\"\n",
      "  Downloading rsa-4.6-py3-none-any.whl (47 kB)\n",
      "Collecting requests-oauthlib>=0.7.0\n",
      "  Using cached requests_oauthlib-1.3.0-py2.py3-none-any.whl (23 kB)\n",
      "Collecting pyasn1<0.5.0,>=0.4.6\n",
      "  Using cached pyasn1-0.4.8-py2.py3-none-any.whl (77 kB)\n",
      "Collecting oauthlib>=3.0.0\n",
      "  Using cached oauthlib-3.1.0-py2.py3-none-any.whl (147 kB)\n",
      "Building wheels for collected packages: gdown, termcolor\n",
      "  Building wheel for gdown (PEP 517): started\n",
      "  Building wheel for gdown (PEP 517): finished with status 'done'\n",
      "  Created wheel for gdown: filename=gdown-3.12.2-py3-none-any.whl size=9680 sha256=a1b6309544ec81b4dd217ab62cea8529c573df23a041351a46bde133294e7994\n",
      "  Stored in directory: c:\\users\\km_mz\\appdata\\local\\pip\\cache\\wheels\\e2\\62\\1e\\926d1ebe7b1e733c78d627fd288d01b83feaf67efc06e0e4c3\n",
      "  Building wheel for termcolor (setup.py): started\n",
      "  Building wheel for termcolor (setup.py): finished with status 'done'\n",
      "  Created wheel for termcolor: filename=termcolor-1.1.0-py3-none-any.whl size=4835 sha256=557dd7132c0c6249dd453c6fbfc8d6b1d8a1a584d5c2b39d4e0b3d130766f3f9\n",
      "  Stored in directory: c:\\users\\km_mz\\appdata\\local\\pip\\cache\\wheels\\a0\\16\\9c\\5473df82468f958445479c59e784896fa24f4a5fc024b0f501\n",
      "Successfully built gdown termcolor\n",
      "Installing collected packages: keras, mtcnn, absl-py, gast, astunparse, termcolor, grpcio, google-pasta, keras-preprocessing, opt-einsum, cachetools, pyasn1, pyasn1-modules, rsa, google-auth, tensorboard-plugin-wit, markdown, oauthlib, requests-oauthlib, google-auth-oauthlib, protobuf, tensorboard, tensorflow-estimator, tensorflow, gdown, DeepFace\n",
      "Successfully installed DeepFace-0.0.41 absl-py-0.11.0 astunparse-1.6.3 cachetools-4.1.1 gast-0.3.3 gdown-3.12.2 google-auth-1.23.0 google-auth-oauthlib-0.4.2 google-pasta-0.2.0 grpcio-1.33.2 keras-2.4.3 keras-preprocessing-1.1.2 markdown-3.3.3 mtcnn-0.1.0 oauthlib-3.1.0 opt-einsum-3.3.0 protobuf-3.14.0 pyasn1-0.4.8 pyasn1-modules-0.2.8 requests-oauthlib-1.3.0 rsa-4.6 tensorboard-2.4.0 tensorboard-plugin-wit-1.7.0 tensorflow-2.3.1 tensorflow-estimator-2.3.0 termcolor-1.1.0\n"
     ]
    },
    {
     "name": "stderr",
     "output_type": "stream",
     "text": [
      "ERROR: After October 2020 you may experience errors when installing or updating packages. This is because pip will change the way that it resolves dependency conflicts.\n",
      "\n",
      "We recommend you use --use-feature=2020-resolver to test your packages with the new resolver before it becomes the default.\n",
      "\n",
      "tensorflow 2.3.1 requires numpy<1.19.0,>=1.16.0, but you'll have numpy 1.19.2 which is incompatible.\n"
     ]
    },
    {
     "name": "stdout",
     "output_type": "stream",
     "text": [
      "Directory  C:\\Users\\km_mz /.deepface created\n",
      "Directory  C:\\Users\\km_mz /.deepface/weights created\n"
     ]
    }
   ],
   "source": [
    "!pip install DeepFace\n",
    "from deepface import DeepFace"
   ]
  },
  {
   "cell_type": "code",
   "execution_count": 23,
   "metadata": {
    "colab": {
     "base_uri": "https://localhost:8080/"
    },
    "id": "4gHaKcmgPaf-",
    "outputId": "eb4c5e3a-b0e5-49d3-e00d-6131f82c6f2e"
   },
   "outputs": [
    {
     "name": "stdout",
     "output_type": "stream",
     "text": [
      "[['./lfw_prewhiten/George_W_Bush/George_W_Bush_0064.jpg', './lfw_prewhiten/George_W_Bush/George_W_Bush_0077.jpg'], ['./lfw_prewhiten/Colin_Powell/Colin_Powell_0060.jpg', './lfw_prewhiten/Colin_Powell/Colin_Powell_0061.jpg'], ['./lfw_prewhiten/George_W_Bush/George_W_Bush_0009.jpg', './lfw_prewhiten/George_W_Bush/George_W_Bush_0188.jpg'], ['./lfw_prewhiten/George_W_Bush/George_W_Bush_0460.jpg', './lfw_prewhiten/George_W_Bush/George_W_Bush_0474.jpg'], ['./lfw_prewhiten/Saddam_Hussein/Saddam_Hussein_0011.jpg', './lfw_prewhiten/Saddam_Hussein/Saddam_Hussein_0020.jpg'], ['./lfw_prewhiten/George_W_Bush/George_W_Bush_0039.jpg', './lfw_prewhiten/George_W_Bush/George_W_Bush_0349.jpg'], ['./lfw_prewhiten/George_W_Bush/George_W_Bush_0050.jpg', './lfw_prewhiten/George_W_Bush/George_W_Bush_0138.jpg'], ['./lfw_prewhiten/George_W_Bush/George_W_Bush_0174.jpg', './lfw_prewhiten/George_W_Bush/George_W_Bush_0279.jpg'], ['./lfw_prewhiten/Lleyton_Hewitt/Lleyton_Hewitt_0013.jpg', './lfw_prewhiten/Lleyton_Hewitt/Lleyton_Hewitt_0015.jpg'], ['./lfw_prewhiten/Colin_Powell/Colin_Powell_0192.jpg', './lfw_prewhiten/Colin_Powell/Colin_Powell_0203.jpg']]\n"
     ]
    }
   ],
   "source": [
    "instances = selected_df[[\"file_x\", \"file_y\"]].values.tolist()\n",
    "print(instances[:10])"
   ]
  },
  {
   "cell_type": "code",
   "execution_count": 24,
   "metadata": {
    "colab": {
     "base_uri": "https://localhost:8080/"
    },
    "id": "Y7Npg6MbPagF",
    "outputId": "be78c9b2-25ba-45b8-eac0-63531ea52943"
   },
   "outputs": [
    {
     "name": "stdout",
     "output_type": "stream",
     "text": [
      "facenet_weights.h5 will be downloaded...\n"
     ]
    },
    {
     "name": "stderr",
     "output_type": "stream",
     "text": [
      "Downloading...\n",
      "From: https://drive.google.com/uc?id=1971Xk5RwedbudGgTIrGAL4F7Aifu7id1\n",
      "To: C:\\Users\\km_mz\\.deepface\\weights\\facenet_weights.h5\n",
      "92.2MB [00:11, 8.11MB/s]\n",
      "Verification:   0%|                                                                           | 0/6000 [00:00<?, ?it/s]"
     ]
    },
    {
     "name": "stdout",
     "output_type": "stream",
     "text": [
      "Using Facenet model backend\n"
     ]
    },
    {
     "name": "stderr",
     "output_type": "stream",
     "text": [
      "Verification: 100%|████████████████████████████████████████████████████████████████| 6000/6000 [31:29<00:00,  3.17it/s]\n"
     ]
    }
   ],
   "source": [
    "model_name = \"Facenet\"\n",
    "distance_metric = \"euclidean_l2\"\n",
    "resp_obj = DeepFace.verify(instances, model_name = model_name, distance_metric = distance_metric, enforce_detection=False)"
   ]
  },
  {
   "cell_type": "code",
   "execution_count": 25,
   "metadata": {
    "id": "SwHXNr4wPagH"
   },
   "outputs": [],
   "source": [
    "distances = []\n",
    "for i in range(0, len(instances)):\n",
    "    distance = round(resp_obj[\"pair_%s\" % (i+1)][\"distance\"], 4)\n",
    "    distances.append(distance)"
   ]
  },
  {
   "cell_type": "code",
   "execution_count": 26,
   "metadata": {
    "colab": {
     "base_uri": "https://localhost:8080/",
     "height": 170
    },
    "id": "QtpvQk9WPagI",
    "outputId": "fcb01eb7-ef2f-499f-b649-a74b5a2e1b5c"
   },
   "outputs": [],
   "source": [
    "selected_df[\"distance_l2\"] = distances"
   ]
  },
  {
   "cell_type": "code",
   "execution_count": 27,
   "metadata": {
    "id": "bw1Vp5wK_h2j"
   },
   "outputs": [],
   "source": [
    "# selected_df.to_csv('pair_with_dist_lfw_prewhiten.csv', index=False)"
   ]
  },
  {
   "cell_type": "code",
   "execution_count": 28,
   "metadata": {
    "colab": {
     "base_uri": "https://localhost:8080/",
     "height": 399
    },
    "id": "uzYSAGpXEYnY",
    "outputId": "f5c94446-6de8-4c19-dd1b-b775e489ea09"
   },
   "outputs": [
    {
     "data": {
      "text/html": [
       "<div>\n",
       "<style scoped>\n",
       "    .dataframe tbody tr th:only-of-type {\n",
       "        vertical-align: middle;\n",
       "    }\n",
       "\n",
       "    .dataframe tbody tr th {\n",
       "        vertical-align: top;\n",
       "    }\n",
       "\n",
       "    .dataframe thead th {\n",
       "        text-align: right;\n",
       "    }\n",
       "</style>\n",
       "<table border=\"1\" class=\"dataframe\">\n",
       "  <thead>\n",
       "    <tr style=\"text-align: right;\">\n",
       "      <th></th>\n",
       "      <th>file_x</th>\n",
       "      <th>file_y</th>\n",
       "      <th>decision</th>\n",
       "      <th>distance_l2</th>\n",
       "    </tr>\n",
       "  </thead>\n",
       "  <tbody>\n",
       "    <tr>\n",
       "      <th>0</th>\n",
       "      <td>./lfw_prewhiten/George_W_Bush/George_W_Bush_00...</td>\n",
       "      <td>./lfw_prewhiten/George_W_Bush/George_W_Bush_00...</td>\n",
       "      <td>Yes</td>\n",
       "      <td>0.7636</td>\n",
       "    </tr>\n",
       "    <tr>\n",
       "      <th>1</th>\n",
       "      <td>./lfw_prewhiten/Colin_Powell/Colin_Powell_0060...</td>\n",
       "      <td>./lfw_prewhiten/Colin_Powell/Colin_Powell_0061...</td>\n",
       "      <td>Yes</td>\n",
       "      <td>0.7167</td>\n",
       "    </tr>\n",
       "    <tr>\n",
       "      <th>2</th>\n",
       "      <td>./lfw_prewhiten/George_W_Bush/George_W_Bush_00...</td>\n",
       "      <td>./lfw_prewhiten/George_W_Bush/George_W_Bush_01...</td>\n",
       "      <td>Yes</td>\n",
       "      <td>0.9628</td>\n",
       "    </tr>\n",
       "    <tr>\n",
       "      <th>3</th>\n",
       "      <td>./lfw_prewhiten/George_W_Bush/George_W_Bush_04...</td>\n",
       "      <td>./lfw_prewhiten/George_W_Bush/George_W_Bush_04...</td>\n",
       "      <td>Yes</td>\n",
       "      <td>1.3440</td>\n",
       "    </tr>\n",
       "    <tr>\n",
       "      <th>4</th>\n",
       "      <td>./lfw_prewhiten/Saddam_Hussein/Saddam_Hussein_...</td>\n",
       "      <td>./lfw_prewhiten/Saddam_Hussein/Saddam_Hussein_...</td>\n",
       "      <td>Yes</td>\n",
       "      <td>1.1211</td>\n",
       "    </tr>\n",
       "    <tr>\n",
       "      <th>...</th>\n",
       "      <td>...</td>\n",
       "      <td>...</td>\n",
       "      <td>...</td>\n",
       "      <td>...</td>\n",
       "    </tr>\n",
       "    <tr>\n",
       "      <th>5995</th>\n",
       "      <td>./lfw_prewhiten/Abdoulaye_Wade/Abdoulaye_Wade_...</td>\n",
       "      <td>./lfw_prewhiten/Adrien_Brody/Adrien_Brody_0012...</td>\n",
       "      <td>No</td>\n",
       "      <td>0.7808</td>\n",
       "    </tr>\n",
       "    <tr>\n",
       "      <th>5996</th>\n",
       "      <td>./lfw_prewhiten/Aaron_Peirsol/Aaron_Peirsol_00...</td>\n",
       "      <td>./lfw_prewhiten/Dorothy_Loudon/Dorothy_Loudon_...</td>\n",
       "      <td>No</td>\n",
       "      <td>1.3476</td>\n",
       "    </tr>\n",
       "    <tr>\n",
       "      <th>5997</th>\n",
       "      <td>./lfw_prewhiten/Aaron_Guiel/Aaron_Guiel_0001.jpg</td>\n",
       "      <td>./lfw_prewhiten/Howard_Wilkinson/Howard_Wilkin...</td>\n",
       "      <td>No</td>\n",
       "      <td>1.2087</td>\n",
       "    </tr>\n",
       "    <tr>\n",
       "      <th>5998</th>\n",
       "      <td>./lfw_prewhiten/Abdel_Nasser_Assidi/Abdel_Nass...</td>\n",
       "      <td>./lfw_prewhiten/Tom_Hanks/Tom_Hanks_0005.jpg</td>\n",
       "      <td>No</td>\n",
       "      <td>1.2668</td>\n",
       "    </tr>\n",
       "    <tr>\n",
       "      <th>5999</th>\n",
       "      <td>./lfw_prewhiten/Aaron_Sorkin/Aaron_Sorkin_0002...</td>\n",
       "      <td>./lfw_prewhiten/Celso_Lafer/Celso_Lafer_0001.jpg</td>\n",
       "      <td>No</td>\n",
       "      <td>1.5067</td>\n",
       "    </tr>\n",
       "  </tbody>\n",
       "</table>\n",
       "<p>6000 rows × 4 columns</p>\n",
       "</div>"
      ],
      "text/plain": [
       "                                                 file_x  \\\n",
       "0     ./lfw_prewhiten/George_W_Bush/George_W_Bush_00...   \n",
       "1     ./lfw_prewhiten/Colin_Powell/Colin_Powell_0060...   \n",
       "2     ./lfw_prewhiten/George_W_Bush/George_W_Bush_00...   \n",
       "3     ./lfw_prewhiten/George_W_Bush/George_W_Bush_04...   \n",
       "4     ./lfw_prewhiten/Saddam_Hussein/Saddam_Hussein_...   \n",
       "...                                                 ...   \n",
       "5995  ./lfw_prewhiten/Abdoulaye_Wade/Abdoulaye_Wade_...   \n",
       "5996  ./lfw_prewhiten/Aaron_Peirsol/Aaron_Peirsol_00...   \n",
       "5997   ./lfw_prewhiten/Aaron_Guiel/Aaron_Guiel_0001.jpg   \n",
       "5998  ./lfw_prewhiten/Abdel_Nasser_Assidi/Abdel_Nass...   \n",
       "5999  ./lfw_prewhiten/Aaron_Sorkin/Aaron_Sorkin_0002...   \n",
       "\n",
       "                                                 file_y decision  distance_l2  \n",
       "0     ./lfw_prewhiten/George_W_Bush/George_W_Bush_00...      Yes       0.7636  \n",
       "1     ./lfw_prewhiten/Colin_Powell/Colin_Powell_0061...      Yes       0.7167  \n",
       "2     ./lfw_prewhiten/George_W_Bush/George_W_Bush_01...      Yes       0.9628  \n",
       "3     ./lfw_prewhiten/George_W_Bush/George_W_Bush_04...      Yes       1.3440  \n",
       "4     ./lfw_prewhiten/Saddam_Hussein/Saddam_Hussein_...      Yes       1.1211  \n",
       "...                                                 ...      ...          ...  \n",
       "5995  ./lfw_prewhiten/Adrien_Brody/Adrien_Brody_0012...       No       0.7808  \n",
       "5996  ./lfw_prewhiten/Dorothy_Loudon/Dorothy_Loudon_...       No       1.3476  \n",
       "5997  ./lfw_prewhiten/Howard_Wilkinson/Howard_Wilkin...       No       1.2087  \n",
       "5998       ./lfw_prewhiten/Tom_Hanks/Tom_Hanks_0005.jpg       No       1.2668  \n",
       "5999   ./lfw_prewhiten/Celso_Lafer/Celso_Lafer_0001.jpg       No       1.5067  \n",
       "\n",
       "[6000 rows x 4 columns]"
      ]
     },
     "execution_count": 28,
     "metadata": {},
     "output_type": "execute_result"
    }
   ],
   "source": [
    "selected_df"
   ]
  },
  {
   "cell_type": "code",
   "execution_count": 29,
   "metadata": {
    "colab": {
     "base_uri": "https://localhost:8080/",
     "height": 282
    },
    "id": "jZG9Q5SJLJSH",
    "outputId": "765e3ae4-8064-4753-8d4c-504dcff75142"
   },
   "outputs": [
    {
     "data": {
      "text/html": [
       "<div>\n",
       "<style scoped>\n",
       "    .dataframe tbody tr th:only-of-type {\n",
       "        vertical-align: middle;\n",
       "    }\n",
       "\n",
       "    .dataframe tbody tr th {\n",
       "        vertical-align: top;\n",
       "    }\n",
       "\n",
       "    .dataframe thead th {\n",
       "        text-align: right;\n",
       "    }\n",
       "</style>\n",
       "<table border=\"1\" class=\"dataframe\">\n",
       "  <thead>\n",
       "    <tr style=\"text-align: right;\">\n",
       "      <th></th>\n",
       "      <th>distance_l2</th>\n",
       "    </tr>\n",
       "  </thead>\n",
       "  <tbody>\n",
       "    <tr>\n",
       "      <th>count</th>\n",
       "      <td>6000.000000</td>\n",
       "    </tr>\n",
       "    <tr>\n",
       "      <th>mean</th>\n",
       "      <td>1.172679</td>\n",
       "    </tr>\n",
       "    <tr>\n",
       "      <th>std</th>\n",
       "      <td>0.263370</td>\n",
       "    </tr>\n",
       "    <tr>\n",
       "      <th>min</th>\n",
       "      <td>0.320500</td>\n",
       "    </tr>\n",
       "    <tr>\n",
       "      <th>25%</th>\n",
       "      <td>0.949525</td>\n",
       "    </tr>\n",
       "    <tr>\n",
       "      <th>50%</th>\n",
       "      <td>1.260300</td>\n",
       "    </tr>\n",
       "    <tr>\n",
       "      <th>75%</th>\n",
       "      <td>1.388250</td>\n",
       "    </tr>\n",
       "    <tr>\n",
       "      <th>max</th>\n",
       "      <td>1.650700</td>\n",
       "    </tr>\n",
       "  </tbody>\n",
       "</table>\n",
       "</div>"
      ],
      "text/plain": [
       "       distance_l2\n",
       "count  6000.000000\n",
       "mean      1.172679\n",
       "std       0.263370\n",
       "min       0.320500\n",
       "25%       0.949525\n",
       "50%       1.260300\n",
       "75%       1.388250\n",
       "max       1.650700"
      ]
     },
     "execution_count": 29,
     "metadata": {},
     "output_type": "execute_result"
    }
   ],
   "source": [
    "selected_df.describe()"
   ]
  },
  {
   "cell_type": "markdown",
   "metadata": {
    "id": "CW-zNM5_PagK"
   },
   "source": [
    "# ROC curve"
   ]
  },
  {
   "cell_type": "code",
   "execution_count": 30,
   "metadata": {
    "id": "MxufGgUfUKTn"
   },
   "outputs": [],
   "source": [
    "import numpy as np\n",
    "import matplotlib.pyplot as plt\n",
    "from itertools import cycle\n",
    "\n",
    "from sklearn.preprocessing import LabelEncoder\n",
    "from sklearn.metrics import roc_curve, auc\n",
    "from scipy import interp\n",
    "from sklearn.metrics import roc_auc_score"
   ]
  },
  {
   "cell_type": "code",
   "execution_count": 31,
   "metadata": {
    "id": "AfUelb4cVMtP"
   },
   "outputs": [],
   "source": [
    "encoder = LabelEncoder()\n",
    "encoder.fit(selected_df['decision'])\n",
    "selected_df_label_encoded = encoder.transform(selected_df['decision']) # 1='Yes' / 0='No'\n",
    "selected_df['distance_l2_scaled'] = -selected_df['distance_l2']"
   ]
  },
  {
   "cell_type": "code",
   "execution_count": 32,
   "metadata": {
    "id": "3SpYn3BgWCfb"
   },
   "outputs": [],
   "source": [
    "fpr, tpr, thresholds = roc_curve(selected_df_label_encoded, selected_df['distance_l2_scaled'])\n",
    "roc_auc = auc(fpr, tpr)"
   ]
  },
  {
   "cell_type": "code",
   "execution_count": 33,
   "metadata": {
    "colab": {
     "base_uri": "https://localhost:8080/",
     "height": 295
    },
    "id": "HCsAEmbHbgOq",
    "outputId": "8857b756-5273-48ae-a375-9b1a236941ad"
   },
   "outputs": [
    {
     "data": {
      "image/png": "[encoded data removed]",
      "text/plain": [
       "<Figure size 432x288 with 1 Axes>"
      ]
     },
     "metadata": {
      "needs_background": "light"
     },
     "output_type": "display_data"
    }
   ],
   "source": [
    "plt.figure()\n",
    "lw = 2\n",
    "plt.plot(fpr, tpr, color='darkorange',\n",
    "         lw=lw, label='ROC curve (area = %0.2f)' % roc_auc)\n",
    "plt.plot([0, 1], [0, 1], color='navy', lw=lw, linestyle='--')\n",
    "plt.xlim([0.0, 1.0])\n",
    "plt.ylim([0.0, 1.05])\n",
    "plt.xlabel('False Positive Rate')\n",
    "plt.ylabel('True Positive Rate')\n",
    "plt.title('ROC curve(facenet.h5)')\n",
    "plt.legend(loc=\"lower right\")\n",
    "plt.show()"
   ]
  },
  {
   "cell_type": "code",
   "execution_count": null,
   "metadata": {},
   "outputs": [],
   "source": []
  }
 ],
 "metadata": {
  "accelerator": "GPU",
  "colab": {
   "collapsed_sections": [],
   "machine_shape": "hm",
   "name": "[Eval]02-2_Create distance csv file_facenet_noncropped-서양인+prewhiten.ipynb",
   "provenance": [],
   "toc_visible": true
  },
  "kernelspec": {
   "display_name": "Python 3",
   "language": "python",
   "name": "python3"
  },
  "language_info": {
   "codemirror_mode": {
    "name": "ipython",
    "version": 3
   },
   "file_extension": ".py",
   "mimetype": "text/x-python",
   "name": "python",
   "nbconvert_exporter": "python",
   "pygments_lexer": "ipython3",
   "version": "3.8.5"
  }
 },
 "nbformat": 4,
 "nbformat_minor": 1
}
