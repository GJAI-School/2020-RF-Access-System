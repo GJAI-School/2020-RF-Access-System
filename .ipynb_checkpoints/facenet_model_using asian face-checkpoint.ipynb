{
 "cells": [
  {
   "cell_type": "markdown",
   "metadata": {
    "id": "6pFAjMQatV_X"
   },
   "source": [
    "### Make dataset - 동양인 데이터셋 load"
   ]
  },
  {
   "cell_type": "code",
   "execution_count": 20,
   "metadata": {
    "colab": {
     "base_uri": "https://localhost:8080/"
    },
    "id": "7UoHrIcbtU1p",
    "outputId": "933ef407-218e-43e2-b0a8-b3db3bac6889"
   },
   "outputs": [
    {
     "name": "stdout",
     "output_type": "stream",
     "text": [
      "320\n",
      "Found 12287 files belonging to 320 classes.\n",
      "Using 9830 files for training.\n",
      "Found 12287 files belonging to 320 classes.\n",
      "Using 2457 files for validation.\n",
      "<BatchDataset shapes: ((None, 160, 160, 3), (None,)), types: (tf.float32, tf.int32)>\n",
      "<BatchDataset shapes: ((None, 160, 160, 3), (None,)), types: (tf.float32, tf.int32)>\n",
      "<MapDataset shapes: ((None, 160, 160, 3), (None,)), types: (tf.float32, tf.int32)>\n",
      "<MapDataset shapes: ((None, 160, 160, 3), (None,)), types: (tf.float32, tf.int32)>\n"
     ]
    }
   ],
   "source": [
    "import os\n",
    "import tensorflow as tf\n",
    "from tensorflow.keras.preprocessing import image_dataset_from_directory\n",
    "\n",
    "data_dir = r'C:\\Users\\MyLaptop\\Desktop\\40, 320 + cascade-20201112T044808Z-001\\40, 320 + cascade'\n",
    "print(len(os.listdir(data_dir)))\n",
    "\n",
    "IMAGE_SIZE = (160, 160) # 이전에 학습된 모델을 불러오기 때문에 input_shape을 맞춰준다\n",
    "BATCH_SIZE = 64 # 노트북 memory에 맞춰서 조절\n",
    "\n",
    "train_ds = tf.keras.preprocessing.image_dataset_from_directory(\n",
    "    data_dir,\n",
    "    validation_split=0.2,\n",
    "    subset=\"training\",\n",
    "    seed=42,\n",
    "    image_size=IMAGE_SIZE,\n",
    "    batch_size=BATCH_SIZE\n",
    "    )\n",
    "\n",
    "val_ds = tf.keras.preprocessing.image_dataset_from_directory(\n",
    "    data_dir,\n",
    "    validation_split=0.2,\n",
    "    subset=\"validation\",\n",
    "    seed=42,\n",
    "    image_size=IMAGE_SIZE,\n",
    "    batch_size=BATCH_SIZE\n",
    "    )\n",
    "\n",
    "print(train_ds)\n",
    "print(val_ds)"
   ]
  },
  {
   "cell_type": "code",
   "execution_count": null,
   "metadata": {},
   "outputs": [],
   "source": [
    "from tensorflow.keras import layers\n",
    "\n",
    "# 이미지가 0~1 사이의 값을 가지도록 정규화\n",
    "def normalization_dataset(dataset):\n",
    "    normalization_layer = tf.keras.layers.experimental.preprocessing.Rescaling(1./255)\n",
    "    normalized_ds = dataset.map(lambda x, y: (normalization_layer(x), y))\n",
    "    return normalized_ds \n",
    "\n",
    "train_ds = normalization_dataset(train_ds)\n",
    "val_ds = normalization_dataset(val_ds)\n",
    "print(train_ds)\n",
    "print(val_ds)"
   ]
  },
  {
   "cell_type": "code",
   "execution_count": null,
   "metadata": {},
   "outputs": [],
   "source": [
    "# cache() 첫 번째 에포크 동안 디스크에서로드 된 이미지를 메모리에 보관합니다. \n",
    "# prefetch 학습 중에 데이터 전처리 및 모델 실행과 겹칩니다\n",
    "\n",
    "AUTOTUNE = tf.data.experimental.AUTOTUNE\n",
    "\n",
    "train_ds = train_ds.cache().prefetch(buffer_size=AUTOTUNE)\n",
    "val_ds = val_ds.cache().prefetch(buffer_size=AUTOTUNE)"
   ]
  },
  {
   "cell_type": "markdown",
   "metadata": {
    "id": "9ccxvC-MqCdK"
   },
   "source": [
    "### import Module"
   ]
  },
  {
   "cell_type": "code",
   "execution_count": 37,
   "metadata": {
    "colab": {
     "base_uri": "https://localhost:8080/"
    },
    "id": "3mjnxRzKUddm",
    "outputId": "0d3d5629-a225-4f21-bc13-85e02b626504"
   },
   "outputs": [],
   "source": [
    "import numpy as np\n",
    "\n",
    "# import tensorflow_hub as hub\n",
    "import tensorflow_addons as tfa\n",
    " \n",
    "from tensorflow.keras import Sequential\n",
    "from tensorflow.keras.layers import Input, Dense, Flatten, Dropout, Lambda, MaxPooling2D, Conv2D\n",
    "from tensorflow.keras.optimizers import Adam, SGD, Adagrad\n",
    "\n",
    "from tensorflow.keras.callbacks import EarlyStopping\n",
    "\n",
    "from tensorflow.keras import models"
   ]
  },
  {
   "cell_type": "markdown",
   "metadata": {},
   "source": [
    "### 서양인에 맞춰서 학습된 facenet.h5 model load"
   ]
  },
  {
   "cell_type": "code",
   "execution_count": 38,
   "metadata": {},
   "outputs": [
    {
     "name": "stdout",
     "output_type": "stream",
     "text": [
      "WARNING:tensorflow:No training configuration found in the save file, so the model was *not* compiled. Compile it manually.\n"
     ]
    }
   ],
   "source": [
    "model = models.load_model(r'C:\\Users\\MyLaptop\\Documents\\Jupyter notebook\\RF_access_system\\model\\facenet.h5')"
   ]
  },
  {
   "cell_type": "code",
   "execution_count": 39,
   "metadata": {
    "colab": {
     "base_uri": "https://localhost:8080/"
    },
    "id": "if6CSnbkxV7I",
    "outputId": "ef6a9c80-d89c-4f9a-b929-e9409ba76a32"
   },
   "outputs": [
    {
     "data": {
      "text/plain": [
       "[<tensorflow.python.keras.layers.core.Dense at 0x24fe4e08548>,\n",
       " <tensorflow.python.keras.layers.normalization_v2.BatchNormalization at 0x24fe4dbfb48>]"
      ]
     },
     "execution_count": 39,
     "metadata": {},
     "output_type": "execute_result"
    }
   ],
   "source": [
    "# model layer 확인\n",
    "# model.summary()\n",
    "model.layers[-2:]"
   ]
  },
  {
   "cell_type": "code",
   "execution_count": 40,
   "metadata": {
    "id": "tK0ZryFHsKui"
   },
   "outputs": [],
   "source": [
    "# 동양인 데이터에 맞춰서 재학습 시키기 위해 마지막 dense layer를 가지고 와서 학습 가능으로 변경\n",
    "\n",
    "for layer in model.layers[-2:]:\n",
    "    layer.trainable = True\n",
    "\n",
    "# 마지막 2개의 layer에 접근하며 커널이 존재할 경우 가중치의 shape을 저장\n",
    "# 초기 가중치의 값을 0~1의 값으로 설정\n",
    "    \n",
    "for layer in model.layers[-2:]:\n",
    "    if 'kernel' in layer.__dict__:\n",
    "        kernel_shape = np.array(layer.get_weights()).shape\n",
    "        layer.set_weights(tf.random.normal(kernel_shape, 0, 1))"
   ]
  },
  {
   "cell_type": "markdown",
   "metadata": {},
   "source": [
    "### Model train"
   ]
  },
  {
   "cell_type": "code",
   "execution_count": 25,
   "metadata": {
    "colab": {
     "base_uri": "https://localhost:8080/"
    },
    "id": "lYGgCMUYsiKt",
    "outputId": "9102e35a-f5d4-4fc0-c323-318d2bdc3175",
    "scrolled": true
   },
   "outputs": [
    {
     "name": "stdout",
     "output_type": "stream",
     "text": [
      "Epoch 1/1000\n",
      "  2/154 [..............................] - ETA: 27s - loss: 0.2661WARNING:tensorflow:Callbacks method `on_train_batch_end` is slow compared to the batch time (batch time: 0.1277s vs `on_train_batch_end` time: 0.2294s). Check your callbacks.\n",
      "154/154 [==============================] - ETA: 0s - loss: 0.3854WARNING:tensorflow:Callbacks method `on_test_batch_end` is slow compared to the batch time (batch time: 0.0379s vs `on_test_batch_end` time: 0.0668s). Check your callbacks.\n",
      "154/154 [==============================] - 64s 413ms/step - loss: 0.3854 - val_loss: 0.6568\n",
      "Epoch 2/1000\n",
      "154/154 [==============================] - 63s 410ms/step - loss: 0.1977 - val_loss: 0.3708\n",
      "Epoch 3/1000\n",
      "154/154 [==============================] - 63s 407ms/step - loss: 0.0795 - val_loss: 0.3006\n",
      "Epoch 4/1000\n",
      "154/154 [==============================] - 62s 406ms/step - loss: 0.0321 - val_loss: 0.3181\n",
      "Epoch 5/1000\n",
      "154/154 [==============================] - 62s 406ms/step - loss: 0.0145 - val_loss: 0.2642\n",
      "Epoch 6/1000\n",
      "154/154 [==============================] - 63s 406ms/step - loss: 0.0085 - val_loss: 0.2410\n",
      "Epoch 7/1000\n",
      "154/154 [==============================] - 62s 405ms/step - loss: 0.0039 - val_loss: 0.2547\n",
      "Epoch 8/1000\n",
      "154/154 [==============================] - 62s 405ms/step - loss: 0.0038 - val_loss: 0.2395\n",
      "Epoch 9/1000\n",
      "154/154 [==============================] - 62s 403ms/step - loss: 0.0033 - val_loss: 0.2451\n",
      "Epoch 10/1000\n",
      "154/154 [==============================] - 62s 403ms/step - loss: 0.0015 - val_loss: 0.2515\n",
      "Epoch 11/1000\n",
      "154/154 [==============================] - 62s 404ms/step - loss: 0.0016 - val_loss: 0.2652\n",
      "Epoch 12/1000\n",
      "154/154 [==============================] - 62s 402ms/step - loss: 8.8434e-04 - val_loss: 0.2403\n",
      "Epoch 13/1000\n",
      "154/154 [==============================] - 61s 398ms/step - loss: 5.2058e-04 - val_loss: 0.2463\n",
      "Epoch 14/1000\n",
      "154/154 [==============================] - 61s 398ms/step - loss: 0.0017 - val_loss: 0.2492\n",
      "Epoch 15/1000\n",
      "154/154 [==============================] - 61s 398ms/step - loss: 3.6694e-04 - val_loss: 0.2487\n",
      "Epoch 16/1000\n",
      "154/154 [==============================] - 61s 399ms/step - loss: 0.0017 - val_loss: 0.2371\n",
      "Epoch 17/1000\n",
      "154/154 [==============================] - 62s 401ms/step - loss: 6.0720e-04 - val_loss: 0.2448\n",
      "Epoch 18/1000\n",
      "154/154 [==============================] - 61s 399ms/step - loss: 7.5984e-04 - val_loss: 0.2468\n",
      "Epoch 19/1000\n",
      "154/154 [==============================] - 62s 401ms/step - loss: 8.7469e-04 - val_loss: 0.2206\n",
      "Epoch 20/1000\n",
      "154/154 [==============================] - 62s 401ms/step - loss: 8.3435e-04 - val_loss: 0.2455\n",
      "Epoch 21/1000\n",
      "154/154 [==============================] - 62s 400ms/step - loss: 7.3814e-04 - val_loss: 0.2351\n",
      "Epoch 22/1000\n",
      "154/154 [==============================] - 62s 401ms/step - loss: 3.1813e-04 - val_loss: 0.2233\n",
      "Epoch 23/1000\n",
      "154/154 [==============================] - 62s 400ms/step - loss: 6.9289e-04 - val_loss: 0.2446\n",
      "Epoch 24/1000\n",
      "154/154 [==============================] - 62s 400ms/step - loss: 7.8094e-04 - val_loss: 0.2366\n",
      "Epoch 25/1000\n",
      "154/154 [==============================] - 62s 400ms/step - loss: 4.1927e-04 - val_loss: 0.2235\n",
      "Epoch 26/1000\n",
      "154/154 [==============================] - 62s 401ms/step - loss: 0.0010 - val_loss: 0.2357\n",
      "Epoch 27/1000\n",
      "154/154 [==============================] - 62s 401ms/step - loss: 2.3107e-04 - val_loss: 0.2443\n",
      "Epoch 28/1000\n",
      "154/154 [==============================] - 62s 400ms/step - loss: 2.1029e-04 - val_loss: 0.2426\n",
      "Epoch 29/1000\n",
      "154/154 [==============================] - 62s 401ms/step - loss: 1.2154e-04 - val_loss: 0.2283\n"
     ]
    }
   ],
   "source": [
    "# compile 값 설정\n",
    "# optimizer : SGD(lr = 0.05) 논문에서의 세팅값\n",
    "# loss : tripletSemiHardLoss 논문에서의 세팅값 \n",
    "\n",
    "SGD = SGD(lr=0.05)\n",
    "model.compile(optimizer=SGD, loss=tfa.losses.TripletSemiHardLoss())\n",
    "\n",
    "history = model.fit(train_ds ,validation_data=val_ds, epochs=1000,\n",
    "                   callbacks = [tf.keras.callbacks.EarlyStopping(patience = 50, monitor = 'val_loss')])"
   ]
  },
  {
   "cell_type": "markdown",
   "metadata": {},
   "source": [
    "### loss graph 확인"
   ]
  },
  {
   "cell_type": "code",
   "execution_count": 31,
   "metadata": {
    "colab": {
     "base_uri": "https://localhost:8080/",
     "height": 257
    },
    "id": "kxgV_51r1jbK",
    "outputId": "06f5c23e-4b5c-4cbd-bc2e-712792024647"
   },
   "outputs": [
    {
     "data": {
      "image/png": "[encoded data removed]",
      "text/plain": [
       "<Figure size 432x288 with 1 Axes>"
      ]
     },
     "metadata": {
      "needs_background": "light"
     },
     "output_type": "display_data"
    }
   ],
   "source": [
    "# loss 그래프\n",
    "import matplotlib.pyplot as plt\n",
    "plt.figure(\"val_graph\")\n",
    "plt.plot(history.history['loss'], 'y', label='loss')\n",
    "plt.plot(history.history['val_loss'],'b', label='val_loss')\n",
    "\n",
    "plt.xlabel('Epochs')\n",
    "plt.ylabel('Loss')\n",
    "plt.legend(loc='upper left')\n",
    "plt.show()"
   ]
  },
  {
   "cell_type": "markdown",
   "metadata": {},
   "source": [
    "### Model save"
   ]
  },
  {
   "cell_type": "code",
   "execution_count": null,
   "metadata": {},
   "outputs": [],
   "source": [
    "model.save(r'C:\\Users\\MyLaptop\\Documents\\Jupyter notebook\\RF_access_system\\model\\facenet2.h5')"
   ]
  },
  {
   "cell_type": "code",
   "execution_count": null,
   "metadata": {
    "id": "gqOhA_MC1aqC"
   },
   "outputs": [],
   "source": []
  },
  {
   "cell_type": "code",
   "execution_count": null,
   "metadata": {},
   "outputs": [
    {
     "name": "stdout",
     "output_type": "stream",
     "text": [
      "Epoch 1/1000\n",
      "  2/154 [..............................] - ETA: 27s - loss: 0.2292WARNING:tensorflow:Callbacks method `on_train_batch_end` is slow compared to the batch time (batch time: 0.1267s vs `on_train_batch_end` time: 0.2303s). Check your callbacks.\n",
      "154/154 [==============================] - ETA: 0s - loss: 0.3849WARNING:tensorflow:Callbacks method `on_test_batch_end` is slow compared to the batch time (batch time: 0.0319s vs `on_test_batch_end` time: 0.0698s). Check your callbacks.\n",
      "154/154 [==============================] - 60s 391ms/step - loss: 0.3849 - val_loss: 0.5148\n",
      "Epoch 2/1000\n",
      "154/154 [==============================] - 60s 389ms/step - loss: 0.1783 - val_loss: 0.3646\n",
      "Epoch 3/1000\n",
      "154/154 [==============================] - 61s 399ms/step - loss: 0.0794 - val_loss: 0.3238\n",
      "Epoch 4/1000\n",
      "154/154 [==============================] - 62s 400ms/step - loss: 0.0317 - val_loss: 0.3063\n",
      "Epoch 5/1000\n",
      "154/154 [==============================] - 62s 401ms/step - loss: 0.0172 - val_loss: 0.2646\n",
      "Epoch 6/1000\n",
      "154/154 [==============================] - 61s 397ms/step - loss: 0.0090 - val_loss: 0.2608\n",
      "Epoch 7/1000\n",
      "154/154 [==============================] - 62s 401ms/step - loss: 0.0066 - val_loss: 0.2918\n",
      "Epoch 8/1000\n",
      "154/154 [==============================] - 62s 403ms/step - loss: 0.0043 - val_loss: 0.2394\n",
      "Epoch 9/1000\n",
      "154/154 [==============================] - 63s 412ms/step - loss: 0.0042 - val_loss: 0.2529\n",
      "Epoch 10/1000\n",
      "154/154 [==============================] - 62s 404ms/step - loss: 0.0029 - val_loss: 0.2619\n",
      "Epoch 11/1000\n",
      "154/154 [==============================] - 62s 401ms/step - loss: 0.0026 - val_loss: 0.2948\n",
      "Epoch 12/1000\n",
      "154/154 [==============================] - 62s 404ms/step - loss: 0.0017 - val_loss: 0.2723\n",
      "Epoch 13/1000\n",
      "154/154 [==============================] - 62s 400ms/step - loss: 0.0014 - val_loss: 0.2677\n",
      "Epoch 14/1000\n",
      "154/154 [==============================] - 62s 400ms/step - loss: 0.0020 - val_loss: 0.3182\n",
      "Epoch 15/1000\n",
      "154/154 [==============================] - 62s 404ms/step - loss: 0.0032 - val_loss: 0.2578\n",
      "Epoch 16/1000\n",
      " 95/154 [=================>............] - ETA: 22s - loss: 0.0014"
     ]
    }
   ],
   "source": [
    "SGD = SGD(lr=0.05)\n",
    "model.compile(optimizer=SGD, loss=tfa.losses.TripletSemiHardLoss())\n",
    "\n",
    "history = model.fit(train_ds ,validation_data=val_ds, epochs=1000,\n",
    "                   callbacks = [tf.keras.callbacks.EarlyStopping(patience = 50, monitor = 'val_loss')])"
   ]
  },
  {
   "cell_type": "code",
   "execution_count": null,
   "metadata": {},
   "outputs": [],
   "source": []
  }
 ],
 "metadata": {
  "colab": {
   "collapsed_sections": [],
   "name": "Untitled1.ipynb",
   "provenance": []
  },
  "kernelspec": {
   "display_name": "Python 3",
   "language": "python",
   "name": "python3"
  },
  "language_info": {
   "codemirror_mode": {
    "name": "ipython",
    "version": 3
   },
   "file_extension": ".py",
   "mimetype": "text/x-python",
   "name": "python",
   "nbconvert_exporter": "python",
   "pygments_lexer": "ipython3",
   "version": "3.7.9"
  }
 },
 "nbformat": 4,
 "nbformat_minor": 1
}
