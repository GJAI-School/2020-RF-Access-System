{
 "cells": [
  {
   "cell_type": "code",
   "execution_count": 1,
   "metadata": {},
   "outputs": [],
   "source": [
    "import matplotlib.pyplot as plt\n",
    "import numpy as np\n",
    "import cv2\n",
    "import os\n",
    "import tensorflow_hub as hub\n",
    "import tensorflow as tf\n",
    "import tensorflow_addons as tfa\n",
    "\n",
    "from tensorflow.keras import Sequential\n",
    "from tensorflow.keras.layers import Input, Dense, Flatten\n",
    "from tensorflow.keras.optimizers import Adam\n",
    "\n",
    "from tensorflow.keras.preprocessing.image import ImageDataGenerator"
   ]
  },
  {
   "cell_type": "code",
   "execution_count": 2,
   "metadata": {},
   "outputs": [
    {
     "name": "stdout",
     "output_type": "stream",
     "text": [
      ".\\data\\train\n",
      "Found 93 images belonging to 5 classes.\n",
      "Image batch shape:  (8, 299, 299, 3)\n",
      "Label batch shape:  (8, 5)\n"
     ]
    }
   ],
   "source": [
    "data_root = r'.\\data\\train'\n",
    "print(data_root)\n",
    "\n",
    "IMAGE_SHAPE = (299, 299)\n",
    "batch_size = 8\n",
    "\n",
    "image_generator = ImageDataGenerator(rescale=1/255)\n",
    "image_data = image_generator.flow_from_directory(\n",
    "                                    str(data_root), \n",
    "                                    target_size=IMAGE_SHAPE,\n",
    "                                    batch_size=batch_size)\n",
    "\n",
    "\n",
    "for image_batch, label_batch in image_data:\n",
    "    print(\"Image batch shape: \", image_batch.shape)\n",
    "    print(\"Label batch shape: \", label_batch.shape)\n",
    "    break"
   ]
  },
  {
   "cell_type": "code",
   "execution_count": 9,
   "metadata": {},
   "outputs": [],
   "source": [
    "import pandas as pd\n",
    "import numpy as np\n",
    "import cv2"
   ]
  },
  {
   "cell_type": "code",
   "execution_count": 10,
   "metadata": {},
   "outputs": [],
   "source": [
    "tr_data = pd.read_csv(r\"./face_file.csv\")"
   ]
  },
  {
   "cell_type": "code",
   "execution_count": 11,
   "metadata": {},
   "outputs": [
    {
     "data": {
      "text/html": [
       "<div>\n",
       "<style scoped>\n",
       "    .dataframe tbody tr th:only-of-type {\n",
       "        vertical-align: middle;\n",
       "    }\n",
       "\n",
       "    .dataframe tbody tr th {\n",
       "        vertical-align: top;\n",
       "    }\n",
       "\n",
       "    .dataframe thead th {\n",
       "        text-align: right;\n",
       "    }\n",
       "</style>\n",
       "<table border=\"1\" class=\"dataframe\">\n",
       "  <thead>\n",
       "    <tr style=\"text-align: right;\">\n",
       "      <th></th>\n",
       "      <th>images</th>\n",
       "      <th>labels</th>\n",
       "    </tr>\n",
       "  </thead>\n",
       "  <tbody>\n",
       "    <tr>\n",
       "      <th>0</th>\n",
       "      <td>C:\\Users\\MyLaptop\\Documents\\Jupyter notebook\\R...</td>\n",
       "      <td>0</td>\n",
       "    </tr>\n",
       "    <tr>\n",
       "      <th>1</th>\n",
       "      <td>C:\\Users\\MyLaptop\\Documents\\Jupyter notebook\\R...</td>\n",
       "      <td>0</td>\n",
       "    </tr>\n",
       "    <tr>\n",
       "      <th>2</th>\n",
       "      <td>C:\\Users\\MyLaptop\\Documents\\Jupyter notebook\\R...</td>\n",
       "      <td>0</td>\n",
       "    </tr>\n",
       "    <tr>\n",
       "      <th>3</th>\n",
       "      <td>C:\\Users\\MyLaptop\\Documents\\Jupyter notebook\\R...</td>\n",
       "      <td>0</td>\n",
       "    </tr>\n",
       "    <tr>\n",
       "      <th>4</th>\n",
       "      <td>C:\\Users\\MyLaptop\\Documents\\Jupyter notebook\\R...</td>\n",
       "      <td>0</td>\n",
       "    </tr>\n",
       "    <tr>\n",
       "      <th>...</th>\n",
       "      <td>...</td>\n",
       "      <td>...</td>\n",
       "    </tr>\n",
       "    <tr>\n",
       "      <th>88</th>\n",
       "      <td>C:\\Users\\MyLaptop\\Documents\\Jupyter notebook\\R...</td>\n",
       "      <td>4</td>\n",
       "    </tr>\n",
       "    <tr>\n",
       "      <th>89</th>\n",
       "      <td>C:\\Users\\MyLaptop\\Documents\\Jupyter notebook\\R...</td>\n",
       "      <td>4</td>\n",
       "    </tr>\n",
       "    <tr>\n",
       "      <th>90</th>\n",
       "      <td>C:\\Users\\MyLaptop\\Documents\\Jupyter notebook\\R...</td>\n",
       "      <td>4</td>\n",
       "    </tr>\n",
       "    <tr>\n",
       "      <th>91</th>\n",
       "      <td>C:\\Users\\MyLaptop\\Documents\\Jupyter notebook\\R...</td>\n",
       "      <td>4</td>\n",
       "    </tr>\n",
       "    <tr>\n",
       "      <th>92</th>\n",
       "      <td>C:\\Users\\MyLaptop\\Documents\\Jupyter notebook\\R...</td>\n",
       "      <td>4</td>\n",
       "    </tr>\n",
       "  </tbody>\n",
       "</table>\n",
       "<p>93 rows × 2 columns</p>\n",
       "</div>"
      ],
      "text/plain": [
       "                                               images  labels\n",
       "0   C:\\Users\\MyLaptop\\Documents\\Jupyter notebook\\R...       0\n",
       "1   C:\\Users\\MyLaptop\\Documents\\Jupyter notebook\\R...       0\n",
       "2   C:\\Users\\MyLaptop\\Documents\\Jupyter notebook\\R...       0\n",
       "3   C:\\Users\\MyLaptop\\Documents\\Jupyter notebook\\R...       0\n",
       "4   C:\\Users\\MyLaptop\\Documents\\Jupyter notebook\\R...       0\n",
       "..                                                ...     ...\n",
       "88  C:\\Users\\MyLaptop\\Documents\\Jupyter notebook\\R...       4\n",
       "89  C:\\Users\\MyLaptop\\Documents\\Jupyter notebook\\R...       4\n",
       "90  C:\\Users\\MyLaptop\\Documents\\Jupyter notebook\\R...       4\n",
       "91  C:\\Users\\MyLaptop\\Documents\\Jupyter notebook\\R...       4\n",
       "92  C:\\Users\\MyLaptop\\Documents\\Jupyter notebook\\R...       4\n",
       "\n",
       "[93 rows x 2 columns]"
      ]
     },
     "execution_count": 11,
     "metadata": {},
     "output_type": "execute_result"
    }
   ],
   "source": [
    "tr_data"
   ]
  },
  {
   "cell_type": "code",
   "execution_count": 12,
   "metadata": {},
   "outputs": [],
   "source": [
    "tr_data = pd.read_csv(r\"./face_file.csv\").values"
   ]
  },
  {
   "cell_type": "code",
   "execution_count": 13,
   "metadata": {},
   "outputs": [
    {
     "name": "stdout",
     "output_type": "stream",
     "text": [
      "(93, 299, 299, 3)\n"
     ]
    }
   ],
   "source": [
    "train_X = []\n",
    "\n",
    "for file in tr_data[:,0]:\n",
    "    img = cv2.imread(file)\n",
    "    img = cv2.resize(img, dsize=(299, 299))\n",
    "    img = img / 255.0\n",
    "    train_X.append(img)\n",
    "\n",
    "train_X = np.array(train_X)\n",
    "print(train_X.shape)"
   ]
  },
  {
   "cell_type": "code",
   "execution_count": 14,
   "metadata": {},
   "outputs": [],
   "source": [
    "train_y = tr_data[:,1]"
   ]
  },
  {
   "cell_type": "code",
   "execution_count": 15,
   "metadata": {},
   "outputs": [
    {
     "data": {
      "text/plain": [
       "(93,)"
      ]
     },
     "execution_count": 15,
     "metadata": {},
     "output_type": "execute_result"
    }
   ],
   "source": [
    "train_y.shape"
   ]
  },
  {
   "cell_type": "code",
   "execution_count": 10,
   "metadata": {},
   "outputs": [
    {
     "data": {
      "text/plain": [
       "numpy.ndarray"
      ]
     },
     "execution_count": 10,
     "metadata": {},
     "output_type": "execute_result"
    }
   ],
   "source": [
    "type(train_y)"
   ]
  },
  {
   "cell_type": "code",
   "execution_count": 16,
   "metadata": {},
   "outputs": [],
   "source": [
    "train_X = train_X.astype(np.float64)\n",
    "train_y = train_y.astype(np.int64)"
   ]
  },
  {
   "cell_type": "code",
   "execution_count": 18,
   "metadata": {},
   "outputs": [
    {
     "name": "stdout",
     "output_type": "stream",
     "text": [
      "(93, 299, 299, 3) (93,)\n"
     ]
    }
   ],
   "source": [
    "print(train_X.shape, train_y.shape)"
   ]
  },
  {
   "cell_type": "code",
   "execution_count": 7,
   "metadata": {},
   "outputs": [],
   "source": [
    "import numpy as np\n",
    "\n",
    "train_X = np.load('./train_X.npy')\n",
    "train_y = np.load('./train_y.npy')"
   ]
  },
  {
   "cell_type": "code",
   "execution_count": 19,
   "metadata": {
    "scrolled": false
   },
   "outputs": [
    {
     "name": "stdout",
     "output_type": "stream",
     "text": [
      "Model: \"sequential_2\"\n",
      "_________________________________________________________________\n",
      "Layer (type)                 Output Shape              Param #   \n",
      "=================================================================\n",
      "keras_layer_3 (KerasLayer)   (None, 2048)              21802784  \n",
      "_________________________________________________________________\n",
      "dense_2 (Dense)              (None, 128)               262272    \n",
      "_________________________________________________________________\n",
      "lambda_2 (Lambda)            (None, 128)               0         \n",
      "=================================================================\n",
      "Total params: 22,065,056\n",
      "Trainable params: 262,272\n",
      "Non-trainable params: 21,802,784\n",
      "_________________________________________________________________\n",
      "Epoch 1/10\n",
      "3/3 [==============================] - 4s 1s/step - loss: 0.9687\n",
      "Epoch 2/10\n",
      "3/3 [==============================] - 0s 116ms/step - loss: 0.9037\n",
      "Epoch 3/10\n",
      "3/3 [==============================] - 0s 116ms/step - loss: 0.8403\n",
      "Epoch 4/10\n",
      "3/3 [==============================] - 0s 116ms/step - loss: 0.7550\n",
      "Epoch 5/10\n",
      "3/3 [==============================] - 0s 118ms/step - loss: 0.6000\n",
      "Epoch 6/10\n",
      "3/3 [==============================] - 0s 113ms/step - loss: 0.5706\n",
      "Epoch 7/10\n",
      "3/3 [==============================] - 0s 112ms/step - loss: 0.4273\n",
      "Epoch 8/10\n",
      "3/3 [==============================] - 0s 112ms/step - loss: 0.3403\n",
      "Epoch 9/10\n",
      "3/3 [==============================] - 0s 111ms/step - loss: 0.2621\n",
      "Epoch 10/10\n",
      "3/3 [==============================] - 0s 110ms/step - loss: 0.2430\n"
     ]
    }
   ],
   "source": [
    "import tensorflow as tf\n",
    "import tensorflow_hub as hub\n",
    "import tensorflow_addons as tfa\n",
    "\n",
    "from tensorflow.keras import Sequential\n",
    "from tensorflow.keras.layers import Input, Dense, Flatten, Lambda, Dropout\n",
    "from tensorflow.keras.optimizers import Adam\n",
    "\n",
    "# model load\n",
    "IMAGE_SHAPE = (299,299)\n",
    "\n",
    "hub_url = \"https://tfhub.dev/google/imagenet/inception_v3/feature_vector/4\"\n",
    "\n",
    "\n",
    "hub_layer = hub.KerasLayer(hub_url,\n",
    "                           input_shape=IMAGE_SHAPE+(3,))\n",
    "\n",
    "hub_layer.trainable = False\n",
    "\n",
    "model = Sequential()\n",
    "model.add(hub_layer)\n",
    "model.add(Dense(128, activation=None))\n",
    "model.add(Lambda(lambda x: tf.math.l2_normalize(x, axis=1)))\n",
    "\n",
    "model.summary()\n",
    "\n",
    "adam = Adam(lr=1e-3, decay=1e-6)\n",
    "model.compile(optimizer=adam, loss=tfa.losses.TripletSemiHardLoss())\n",
    "\n",
    "# steps_per_epoch = np.ceil(image_data.samples/image_data.batch_size)\n",
    "history = model.fit(train_X, train_y,\n",
    "                    epochs=10)"
   ]
  }
 ],
 "metadata": {
  "kernelspec": {
   "display_name": "Python 3",
   "language": "python",
   "name": "python3"
  },
  "language_info": {
   "codemirror_mode": {
    "name": "ipython",
    "version": 3
   },
   "file_extension": ".py",
   "mimetype": "text/x-python",
   "name": "python",
   "nbconvert_exporter": "python",
   "pygments_lexer": "ipython3",
   "version": "3.7.9"
  }
 },
 "nbformat": 4,
 "nbformat_minor": 4
}
